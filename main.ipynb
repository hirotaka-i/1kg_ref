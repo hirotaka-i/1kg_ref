{
 "cells": [
  {
   "cell_type": "markdown",
   "metadata": {},
   "source": [
    "# Creating a 1000G reference panel\n",
    "\n",
    "This creates the 1000G reference panel to merge with the other genetics data to determine the ancestry of the samples.\n",
    "\n",
    "From the 1000g reference from https://www.cog-genomics.org/plink/2.0/resources#1kg_phase3, only keep the biallelic snps on autosomes with a MAF > 0.01, geno > 0.95 and hwe > 1e-6. Also, pallindromes and long LD regions were excluded. \n",
    "\n"
   ]
  },
  {
   "cell_type": "code",
   "execution_count": null,
   "metadata": {},
   "outputs": [],
   "source": [
    "import pandas as pd"
   ]
  },
  {
   "cell_type": "code",
   "execution_count": null,
   "metadata": {},
   "outputs": [],
   "source": [
    "%%bash\n",
    "# decompress pgen and rename psam as suggested\n",
    "plink2 --zst-decompress all_hg38.pgen.zst > all_hg38.pgen\n",
    "cp hg38_corrected.psam all_hg38.psam"
   ]
  },
  {
   "cell_type": "code",
   "execution_count": null,
   "metadata": {},
   "outputs": [],
   "source": [
    "%%bash\n",
    "# sample info\n",
    "wget http://ftp.1000genomes.ebi.ac.uk/vol1/ftp/technical/working/20130606_sample_info/20130606_sample_info.xlsx"
   ]
  },
  {
   "cell_type": "code",
   "execution_count": null,
   "metadata": {},
   "outputs": [],
   "source": [
    "t=pd.read_excel('20130606_sample_info.xlsx', usecols=['Sample', 'Population'])\n",
    "t.rename(columns={'Sample':'IID'}, inplace=True)\n",
    "t.to_csv('20130606_sample_info.txt', index=False, sep='\\t')"
   ]
  },
  {
   "cell_type": "code",
   "execution_count": null,
   "metadata": {},
   "outputs": [],
   "source": [
    "%%bash\n",
    "# hg38 long LD region\n",
    "wget https://raw.githubusercontent.com/meyer-lab-cshl/plinkQC/master/inst/extdata/high-LD-regions-hg38-GRCh38.txt\n",
    "sed -i 's/chr//g' high-LD-regions-hg38-GRCh38.txt\n",
    "\n",
    "# hg38 fasta file\n",
    "wget https://hgdownload.soe.ucsc.edu/goldenPath/hg38/bigZips/hg38.fa.gz"
   ]
  },
  {
   "cell_type": "code",
   "execution_count": null,
   "metadata": {},
   "outputs": [],
   "source": [
    "%%bash\n",
    "# filter the snps\n",
    "plink2\\\n",
    "  --autosome\\\n",
    "  --allow-extra-chr\\\n",
    "  --exclude bed0 high-LD-regions-hg38-GRCh38.txt\\\n",
    "  --fa /data/iwakih2/resources/hg38.fa.gz\\\n",
    "  --geno 0.05\\\n",
    "  --hwe 0.000001\\\n",
    "  --maf 0.01\\\n",
    "  --make-pgen\\\n",
    "  --max-alleles 2\\\n",
    "  --mind 0.01\\\n",
    "  --out all_hg38_filtered\\\n",
    "  --pfile all_hg38 vzs\\\n",
    "  --ref-from-fa force\\\n",
    "  --remove deg2_hg38.king.cutoff.out.id\\\n",
    "  --snps-only just-acgt\\\n",
    "  --sort-vars"
   ]
  },
  {
   "cell_type": "code",
   "execution_count": null,
   "metadata": {},
   "outputs": [],
   "source": [
    "!grep '##' all_hg38_filtered.pvar | wc -l"
   ]
  },
  {
   "cell_type": "code",
   "execution_count": null,
   "metadata": {},
   "outputs": [],
   "source": [
    "df = pd.read_csv('all_hg38_filtered.pvar', delim_whitespace=True, skiprows=211, engine='c')\n",
    "df.head()"
   ]
  },
  {
   "cell_type": "code",
   "execution_count": null,
   "metadata": {},
   "outputs": [],
   "source": [
    "df=df[['#CHROM','POS', 'ID', 'REF', 'ALT']].copy()\n",
    "df = df.replace(['A', 'C', 'G', 'T'], [-10, -1, 1, 10]) # convert to values\n",
    "IDexclude = df.loc[df['ALT'] + df['REF'] ==0, 'ID'] # 0 = A/T or C/G\n",
    "IDexclude.to_csv('palindrome.txt', index=False, header=False)\n",
    "print(IDexclude.shape)"
   ]
  },
  {
   "cell_type": "code",
   "execution_count": null,
   "metadata": {},
   "outputs": [],
   "source": [
    "%%bash\n",
    "# rename the snps\n",
    "plink2\\\n",
    "  --pfile all_hg38_filtered\\\n",
    "  --exclude palindrome.txt\\\n",
    "  --out all_hg38_filtered_chrpos\\\n",
    "  --set-all-var-ids 'chr@:#:$r:$a'\\\n",
    "  --make-bed"
   ]
  },
  {
   "cell_type": "markdown",
   "metadata": {},
   "source": [
    "# Ancestry mapping of the plink file"
   ]
  },
  {
   "cell_type": "code",
   "execution_count": null,
   "metadata": {},
   "outputs": [],
   "source": [
    "# Read the file into a pandas DataFrame\n",
    "t=pd.read_csv('20130606_sample_info.txt', sep='\\t')\n",
    "\n",
    "# merge with fam file\n",
    "d=pd.read_csv('all_hg38_filtered_chrpos.fam', header=None, sep='\\t', usecols=[1], names=['IID'])\n",
    "df=pd.merge(d, t, on=['IID'], how='left')\n",
    "\n",
    "# One individual is missing for the ancestry so hand label it\n",
    "df.loc[df.IID=='NA12236', 'Population'] = 'CEU'\n",
    "\n",
    "\n",
    "# relabel them\n",
    "ancestory_map={\n",
    "    'YRI': 'AFR',\n",
    "    'GWD': 'AFR',\n",
    "    'ESN': 'AFR',\n",
    "    'LWK': 'AFR',\n",
    "    'ACB': 'AFR',\n",
    "    'ASW': 'AFR',\n",
    "    'MSL': 'AFR',\n",
    "    'CEU': 'EUR',\n",
    "    'IBS': 'EUR',\n",
    "    'TSI': 'EUR',\n",
    "    'FIN': 'EUR',\n",
    "    'GBR': 'EUR',\n",
    "    'CHS': 'EAS',\n",
    "    'JPT': 'EAS',\n",
    "    'CHB': 'EAS',\n",
    "    'KHV': 'EAS',\n",
    "    'CDX': 'EAS',\n",
    "    'PJL': 'SAS',\n",
    "    'ITU': 'SAS',\n",
    "    'STU': 'SAS',\n",
    "    'BEB': 'SAS',\n",
    "    'GIH': 'SAS',\n",
    "    'PUR': 'AMR',\n",
    "    'CLM': 'AMR',\n",
    "    'PEL': 'AMR',\n",
    "    'MXL': 'AMR',\n",
    "    \n",
    "}\n",
    "\n",
    "\n",
    "df['Population2']=df['Population'].map(ancestory_map).fillna('Study')"
   ]
  },
  {
   "cell_type": "code",
   "execution_count": 26,
   "metadata": {},
   "outputs": [
    {
     "name": "stdout",
     "output_type": "stream",
     "text": [
      "<class 'pandas.core.frame.DataFrame'>\n",
      "RangeIndex: 2573 entries, 0 to 2572\n",
      "Data columns (total 3 columns):\n",
      " #   Column       Non-Null Count  Dtype \n",
      "---  ------       --------------  ----- \n",
      " 0   IID          2573 non-null   object\n",
      " 1   Population   2573 non-null   object\n",
      " 2   Population2  2573 non-null   object\n",
      "dtypes: object(3)\n",
      "memory usage: 60.4+ KB\n"
     ]
    }
   ],
   "source": [
    "df.info()"
   ]
  },
  {
   "cell_type": "code",
   "execution_count": null,
   "metadata": {},
   "outputs": [],
   "source": [
    "df.pivot_table(index='Population', columns='Population2', \n",
    "               aggfunc='count', margins=True, values='IID', fill_value=0)"
   ]
  },
  {
   "cell_type": "code",
   "execution_count": null,
   "metadata": {},
   "outputs": [],
   "source": [
    "df.to_csv('all_hg38_filtered_chrpos_pop.txt', index=False, sep='\\t')"
   ]
  },
  {
   "cell_type": "code",
   "execution_count": 27,
   "metadata": {},
   "outputs": [
    {
     "name": "stdout",
     "output_type": "stream",
     "text": [
      "128K\t20130606_sample_info.txt\n",
      "1.0M\t20130606_sample_info.xlsx\n",
      "5.7G\tall_hg38_filtered_chrpos.bed\n",
      "329M\tall_hg38_filtered_chrpos.bim\n",
      "128K\tall_hg38_filtered_chrpos.fam\n",
      "512\tall_hg38_filtered_chrpos.log\n",
      "128K\tall_hg38_filtered_chrpos_pop.txt\n",
      "512\tall_hg38_filtered.log\n",
      "8.9G\tall_hg38.pgen\n",
      "3.2G\tall_hg38.pgen.zst\n",
      "128K\tall_hg38.psam\n",
      "2.6G\tall_hg38.pvar.zst\n",
      "128K\tdeg2_hg38.king.cutoff.out.id\n",
      "128K\thg38_corrected.psam\n",
      "512\thigh-LD-regions-hg38-GRCh38.txt\n",
      "128K\tmain.ipynb\n",
      "23M\tpalindrome.txt\n",
      "512\treame.md\n"
     ]
    }
   ],
   "source": [
    "!du -sh *"
   ]
  },
  {
   "cell_type": "code",
   "execution_count": null,
   "metadata": {},
   "outputs": [],
   "source": []
  }
 ],
 "metadata": {
  "kernelspec": {
   "display_name": "python/3.10",
   "language": "python",
   "name": "py3.10"
  },
  "language_info": {
   "codemirror_mode": {
    "name": "ipython",
    "version": 3
   },
   "file_extension": ".py",
   "mimetype": "text/x-python",
   "name": "python",
   "nbconvert_exporter": "python",
   "pygments_lexer": "ipython3",
   "version": "3.10.8"
  },
  "orig_nbformat": 4
 },
 "nbformat": 4,
 "nbformat_minor": 2
}
