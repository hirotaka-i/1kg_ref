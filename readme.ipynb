{
 "cells": [
  {
   "cell_type": "markdown",
   "metadata": {},
   "source": [
    "# Creating a 1000G reference panel\n",
    "\n",
    "This creates the 1000G reference panel to merge with the other genetics data to determine the ancestry of the samples.\n",
    "\n",
    "From the 1000g reference from https://www.cog-genomics.org/plink/2.0/resources#1kg_phase3, only keep the biallelic snps on autosomes with a MAF > 0.01, geno > 0.95 and hwe > 1e-6. Also, pallindromes and long LD regions were excluded. \n",
    "\n"
   ]
  },
  {
   "cell_type": "code",
   "execution_count": 6,
   "metadata": {},
   "outputs": [],
   "source": [
    "%%bash\n",
    "# decompress pgen and rename psam as suggested\n",
    "plink2 --zst-decompress all_hg38.pgen.zst > all_hg38.pgen\n",
    "cp hg38_corrected.psam all_hg38.psam"
   ]
  },
  {
   "cell_type": "code",
   "execution_count": null,
   "metadata": {},
   "outputs": [],
   "source": [
    "%%bash\n",
    "# sample info\n",
    "wget http://ftp.1000genomes.ebi.ac.uk/vol1/ftp/technical/working/20130606_sample_info/20130606_sample_info.xlsx"
   ]
  },
  {
   "cell_type": "code",
   "execution_count": 3,
   "metadata": {},
   "outputs": [
    {
     "name": "stderr",
     "output_type": "stream",
     "text": [
      "/usr/local/Anaconda/envs/py3.10/lib/python3.10/site-packages/openpyxl/worksheet/_read_only.py:81: UserWarning: Unknown extension is not supported and will be removed\n",
      "  for idx, row in parser.parse():\n"
     ]
    }
   ],
   "source": [
    "import pandas as pd\n",
    "t=pd.read_excel('20130606_sample_info.xlsx', usecols=['Sample', 'Population'])\n",
    "t.rename(columns={'Sample':'IID'}, inplace=True)\n",
    "t.to_csv('/data/iwakih2/resources/1kg_p3/20130606_sample_info.txt', index=False, sep='\\t')"
   ]
  },
  {
   "cell_type": "code",
   "execution_count": 24,
   "metadata": {},
   "outputs": [
    {
     "name": "stderr",
     "output_type": "stream",
     "text": [
      "--2023-11-06 17:29:30--  https://raw.githubusercontent.com/meyer-lab-cshl/plinkQC/master/inst/extdata/high-LD-regions-hg38-GRCh38.txt\n",
      "Resolving dtn05-e0 (dtn05-e0)... 10.1.200.241\n",
      "Connecting to dtn05-e0 (dtn05-e0)|10.1.200.241|:3128... connected.\n"
     ]
    },
    {
     "name": "stderr",
     "output_type": "stream",
     "text": [
      "Proxy request sent, awaiting response... 200 OK\n",
      "Length: 1137 (1.1K) [text/plain]\n",
      "Saving to: ‘high-LD-regions-hg38-GRCh38.txt’\n",
      "\n",
      "     0K .                                                     100% 5.24M=0s\n",
      "\n",
      "2023-11-06 17:29:30 (5.24 MB/s) - ‘high-LD-regions-hg38-GRCh38.txt’ saved [1137/1137]\n",
      "\n"
     ]
    }
   ],
   "source": [
    "%%bash\n",
    "# hg38 long LD region\n",
    "wget https://raw.githubusercontent.com/meyer-lab-cshl/plinkQC/master/inst/extdata/high-LD-regions-hg38-GRCh38.txt\n",
    "sed -i 's/chr//g' high-LD-regions-hg38-GRCh38.txt\n",
    "\n",
    "# hg38 fasta file\n",
    "wget https://hgdownload.soe.ucsc.edu/goldenPath/hg38/bigZips/hg38.fa.gz"
   ]
  },
  {
   "cell_type": "code",
   "execution_count": 49,
   "metadata": {},
   "outputs": [
    {
     "name": "stdout",
     "output_type": "stream",
     "text": [
      "PLINK v2.00a3.6LM 64-bit Intel (14 Aug 2022)   www.cog-genomics.org/plink/2.0/\n",
      "(C) 2005-2022 Shaun Purcell, Christopher Chang   GNU General Public License v3\n",
      "Logging to all_hg38_filtered.log.\n",
      "Options in effect:\n",
      "  --allow-extra-chr\n",
      "  --autosome\n",
      "  --exclude bed0 high-LD-regions-hg38-GRCh38.txt\n",
      "  --fa /data/iwakih2/resources/hg38.fa.gz\n",
      "  --geno 0.05\n",
      "  --hwe 0.000001\n",
      "  --maf 0.01\n",
      "  --make-pgen\n",
      "  --max-alleles 2\n",
      "  --mind 0.01\n",
      "  --out all_hg38_filtered\n",
      "  --pfile all_hg38 vzs\n",
      "  --ref-from-fa force\n",
      "  --remove deg2_hg38.king.cutoff.out.id\n",
      "  --snps-only just-acgt\n",
      "  --sort-vars\n",
      "\n",
      "Start time: Mon Nov  6 18:07:24 2023\n",
      "515436 MiB RAM detected; reserving 257718 MiB for main workspace.\n",
      "Using up to 128 threads (change this with --threads).\n",
      "3202 samples (1603 females, 1599 males; 2583 founders) loaded from\n",
      "all_hg38.psam.\n",
      "61599150 out of 75193455 variants loaded from all_hg38.pvar.zst.\n",
      "2 categorical phenotypes loaded.\n",
      "--exclude bed0: 2079938 variants excluded.\n",
      "--remove: 2573 samples remaining.\n",
      "Calculating sample missingness rates... 101112131415161718192021222324252627282930313233343536373839404142434445464748495051525354555657585960616263646566676869707172737475767778798081828384858687888990919293949596979899done.\n",
      "0 samples removed due to missing genotype data (--mind).\n",
      "2573 samples (1296 females, 1277 males; 2561 founders) remaining after main\n",
      "filters.\n",
      "Calculating allele frequencies... 101112131415161718192021222324252627282930313233343536373839404142434445464748495051525354555657585960616263646566676869707172737475767778798081828384858687888990919293949596979899done.\n",
      "--geno: 0 variants removed due to missing genotype data.\n",
      "--hwe: 2683913 variants removed due to Hardy-Weinberg exact test (founders\n",
      "only).\n",
      "47340903 variants removed due to allele frequency threshold(s)\n",
      "(--maf/--max-maf/--mac/--max-mac).\n",
      "9494396 variants remaining after main filters.\n",
      "--ref-from-fa force: 0 variants changed, 9494396 validated.\n",
      "--fa: Lengths scraped for 22 contigs.\n",
      "Writing all_hg38_filtered.pvar ... done.\n",
      "Writing all_hg38_filtered.psam ... done.\n",
      "Writing all_hg38_filtered.pgen ... 101112131415161718192021222324252627282930313233343536373839404142434445464748495051525354555657585960616263646566676869707172737475767778798081828384858687888990919293949596979899done.\n",
      "End time: Mon Nov  6 18:11:09 2023\n"
     ]
    }
   ],
   "source": [
    "%%bash\n",
    "# filter the snps\n",
    "plink2\\\n",
    "  --autosome\\\n",
    "  --allow-extra-chr\\\n",
    "  --exclude bed0 high-LD-regions-hg38-GRCh38.txt\\\n",
    "  --fa /data/iwakih2/resources/hg38.fa.gz\\\n",
    "  --geno 0.05\\\n",
    "  --hwe 0.000001\\\n",
    "  --maf 0.01\\\n",
    "  --make-pgen\\\n",
    "  --max-alleles 2\\\n",
    "  --mind 0.01\\\n",
    "  --out all_hg38_filtered\\\n",
    "  --pfile all_hg38 vzs\\\n",
    "  --ref-from-fa force\\\n",
    "  --remove deg2_hg38.king.cutoff.out.id\\\n",
    "  --snps-only just-acgt\\\n",
    "  --sort-vars"
   ]
  },
  {
   "cell_type": "code",
   "execution_count": 50,
   "metadata": {},
   "outputs": [
    {
     "name": "stdout",
     "output_type": "stream",
     "text": [
      "211\n"
     ]
    }
   ],
   "source": [
    "!grep '##' all_hg38_filtered.pvar | wc -l"
   ]
  },
  {
   "cell_type": "code",
   "execution_count": 51,
   "metadata": {},
   "outputs": [
    {
     "data": {
      "text/html": [
       "<div>\n",
       "<style scoped>\n",
       "    .dataframe tbody tr th:only-of-type {\n",
       "        vertical-align: middle;\n",
       "    }\n",
       "\n",
       "    .dataframe tbody tr th {\n",
       "        vertical-align: top;\n",
       "    }\n",
       "\n",
       "    .dataframe thead th {\n",
       "        text-align: right;\n",
       "    }\n",
       "</style>\n",
       "<table border=\"1\" class=\"dataframe\">\n",
       "  <thead>\n",
       "    <tr style=\"text-align: right;\">\n",
       "      <th></th>\n",
       "      <th>#CHROM</th>\n",
       "      <th>POS</th>\n",
       "      <th>ID</th>\n",
       "      <th>REF</th>\n",
       "      <th>ALT</th>\n",
       "      <th>INFO</th>\n",
       "    </tr>\n",
       "  </thead>\n",
       "  <tbody>\n",
       "    <tr>\n",
       "      <th>0</th>\n",
       "      <td>1</td>\n",
       "      <td>10583</td>\n",
       "      <td>1:10583:G:A</td>\n",
       "      <td>G</td>\n",
       "      <td>A</td>\n",
       "      <td>AC=193;AF=0.0301374;CM=0.00022389;AN=6404;AN_E...</td>\n",
       "    </tr>\n",
       "    <tr>\n",
       "      <th>1</th>\n",
       "      <td>1</td>\n",
       "      <td>13752</td>\n",
       "      <td>1:13752:T:C</td>\n",
       "      <td>T</td>\n",
       "      <td>C</td>\n",
       "      <td>AC=202;AF=0.0315428;CM=0.0039001;AN=6404;AN_EA...</td>\n",
       "    </tr>\n",
       "    <tr>\n",
       "      <th>2</th>\n",
       "      <td>1</td>\n",
       "      <td>13757</td>\n",
       "      <td>1:13757:G:A</td>\n",
       "      <td>G</td>\n",
       "      <td>A</td>\n",
       "      <td>AC=111;AF=0.0173329;CM=0.0039059;AN=6404;AN_EA...</td>\n",
       "    </tr>\n",
       "    <tr>\n",
       "      <th>3</th>\n",
       "      <td>1</td>\n",
       "      <td>14429</td>\n",
       "      <td>1:14429:G:C</td>\n",
       "      <td>G</td>\n",
       "      <td>C</td>\n",
       "      <td>AC=67;AF=0.0104622;CM=0.00468545;AN=6404;AN_EA...</td>\n",
       "    </tr>\n",
       "    <tr>\n",
       "      <th>4</th>\n",
       "      <td>1</td>\n",
       "      <td>14436</td>\n",
       "      <td>1:14436:G:A</td>\n",
       "      <td>G</td>\n",
       "      <td>A</td>\n",
       "      <td>AC=96;AF=0.0149906;CM=0.00469357;AN=6404;AN_EA...</td>\n",
       "    </tr>\n",
       "  </tbody>\n",
       "</table>\n",
       "</div>"
      ],
      "text/plain": [
       "   #CHROM    POS           ID REF ALT  \\\n",
       "0       1  10583  1:10583:G:A   G   A   \n",
       "1       1  13752  1:13752:T:C   T   C   \n",
       "2       1  13757  1:13757:G:A   G   A   \n",
       "3       1  14429  1:14429:G:C   G   C   \n",
       "4       1  14436  1:14436:G:A   G   A   \n",
       "\n",
       "                                                INFO  \n",
       "0  AC=193;AF=0.0301374;CM=0.00022389;AN=6404;AN_E...  \n",
       "1  AC=202;AF=0.0315428;CM=0.0039001;AN=6404;AN_EA...  \n",
       "2  AC=111;AF=0.0173329;CM=0.0039059;AN=6404;AN_EA...  \n",
       "3  AC=67;AF=0.0104622;CM=0.00468545;AN=6404;AN_EA...  \n",
       "4  AC=96;AF=0.0149906;CM=0.00469357;AN=6404;AN_EA...  "
      ]
     },
     "execution_count": 51,
     "metadata": {},
     "output_type": "execute_result"
    }
   ],
   "source": [
    "df = pd.read_csv('all_hg38_filtered.pvar', delim_whitespace=True, skiprows=211, engine='c')\n",
    "df.head()"
   ]
  },
  {
   "cell_type": "code",
   "execution_count": 52,
   "metadata": {},
   "outputs": [
    {
     "name": "stdout",
     "output_type": "stream",
     "text": [
      "(1512321,)\n"
     ]
    }
   ],
   "source": [
    "df=df[['#CHROM','POS', 'ID', 'REF', 'ALT']].copy()\n",
    "df = df.replace(['A', 'C', 'G', 'T'], [-10, -1, 1, 10]) # convert to values\n",
    "IDexclude = df.loc[df['ALT'] + df['REF'] ==0, 'ID'] # 0 = A/T or C/G\n",
    "IDexclude.to_csv('palindrome.txt', index=False, header=False)\n",
    "print(IDexclude.shape)"
   ]
  },
  {
   "cell_type": "code",
   "execution_count": 53,
   "metadata": {},
   "outputs": [
    {
     "name": "stdout",
     "output_type": "stream",
     "text": [
      "PLINK v2.00a3.6LM 64-bit Intel (14 Aug 2022)   www.cog-genomics.org/plink/2.0/\n",
      "(C) 2005-2022 Shaun Purcell, Christopher Chang   GNU General Public License v3\n",
      "Logging to all_hg38_filtered_chrpos.log.\n",
      "Options in effect:\n",
      "  --exclude palindrome.txt\n",
      "  --make-bed\n",
      "  --out all_hg38_filtered_chrpos\n",
      "  --pfile all_hg38_filtered\n",
      "  --set-all-var-ids chr@:#:$r:$a\n",
      "\n",
      "Start time: Mon Nov  6 18:18:53 2023\n",
      "515436 MiB RAM detected; reserving 257718 MiB for main workspace.\n",
      "Using up to 128 threads (change this with --threads).\n",
      "2573 samples (1296 females, 1277 males; 2561 founders) loaded from\n",
      "all_hg38_filtered.psam.\n",
      "9494396 variants loaded from all_hg38_filtered.pvar.\n",
      "2 categorical phenotypes loaded.\n",
      "--exclude: 9494396 variants remaining.\n",
      "9494396 variants remaining after main filters.\n",
      "Writing all_hg38_filtered_chrpos.fam ... done.\n",
      "Writing all_hg38_filtered_chrpos.bim ... done.\n",
      "Writing all_hg38_filtered_chrpos.bed ... 101112131415161718192021222324252627282930313233343536373839404142434445464748495051525354555657585960616263646566676869707172737475767778798081828384858687888990919293949596979899done.\n",
      "End time: Mon Nov  6 18:19:06 2023\n"
     ]
    }
   ],
   "source": [
    "%%bash\n",
    "# rename the snps\n",
    "plink2\\\n",
    "  --pfile all_hg38_filtered\\\n",
    "  --exclude palindrome.txt\\\n",
    "  --out all_hg38_filtered_chrpos\\\n",
    "  --set-all-var-ids 'chr@:#:$r:$a'\\\n",
    "  --make-bed"
   ]
  },
  {
   "cell_type": "code",
   "execution_count": 54,
   "metadata": {},
   "outputs": [
    {
     "name": "stdout",
     "output_type": "stream",
     "text": [
      "128K\t20130606_sample_info.txt\n",
      "1.0M\t20130606_sample_info.xlsx\n",
      "5.7G\tall_hg38_filtered_chrpos.bed\n",
      "329M\tall_hg38_filtered_chrpos.bim\n",
      "128K\tall_hg38_filtered_chrpos.fam\n",
      "512\tall_hg38_filtered_chrpos.log\n",
      "512\tall_hg38_filtered.log\n",
      "2.8G\tall_hg38_filtered.pgen\n",
      "128K\tall_hg38_filtered.psam\n",
      "11G\tall_hg38_filtered.pvar\n",
      "8.9G\tall_hg38.pgen\n",
      "3.2G\tall_hg38.pgen.zst\n",
      "128K\tall_hg38.psam\n",
      "2.6G\tall_hg38.pvar.zst\n",
      "128K\tdeg2_hg38.king.cutoff.out.id\n",
      "128K\thg38_corrected.psam\n",
      "939M\thg38.fa.gz\n",
      "512\thigh-LD-regions-hg38-GRCh38.txt\n",
      "23M\tpalindrome.txt\n",
      "128K\treadme.ipynb\n"
     ]
    }
   ],
   "source": [
    "!du -sh *"
   ]
  },
  {
   "cell_type": "code",
   "execution_count": null,
   "metadata": {},
   "outputs": [],
   "source": []
  }
 ],
 "metadata": {
  "kernelspec": {
   "display_name": "python/3.10",
   "language": "python",
   "name": "py3.10"
  },
  "language_info": {
   "codemirror_mode": {
    "name": "ipython",
    "version": 3
   },
   "file_extension": ".py",
   "mimetype": "text/x-python",
   "name": "python",
   "nbconvert_exporter": "python",
   "pygments_lexer": "ipython3",
   "version": "3.10.8"
  },
  "orig_nbformat": 4
 },
 "nbformat": 4,
 "nbformat_minor": 2
}
